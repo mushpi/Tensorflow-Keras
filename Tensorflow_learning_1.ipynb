{
  "nbformat": 4,
  "nbformat_minor": 0,
  "metadata": {
    "colab": {
      "provenance": [],
      "authorship_tag": "ABX9TyN/iB4n7tkqEfv/k4u186EL",
      "include_colab_link": true
    },
    "kernelspec": {
      "name": "python3",
      "display_name": "Python 3"
    },
    "language_info": {
      "name": "python"
    }
  },
  "cells": [
    {
      "cell_type": "markdown",
      "metadata": {
        "id": "view-in-github",
        "colab_type": "text"
      },
      "source": [
        "<a href=\"https://colab.research.google.com/github/mushpi/Tensorflow-Keras/blob/main/Tensorflow_learning_1.ipynb\" target=\"_parent\"><img src=\"https://colab.research.google.com/assets/colab-badge.svg\" alt=\"Open In Colab\"/></a>"
      ]
    },
    {
      "cell_type": "markdown",
      "source": [
        "# **Single layered nerural network (from scratch)**\n",
        "$$  y\\hat = σ(w_0+\\sum^{m}_{i=0}x_iw_i)$$\n",
        "$$ where, σ(z)=\\frac{1}{1+e^{-z}}$$\n"
      ],
      "metadata": {
        "id": "Qn1Pm0rAKOhi"
      }
    },
    {
      "cell_type": "code",
      "execution_count": null,
      "metadata": {
        "id": "HTlF_6VcBhbr"
      },
      "outputs": [],
      "source": [
        "import tensorflow as tf\n",
        "\n",
        "\n",
        "class MyDenseLayer(tf.keras.layers.Layer):\n",
        "  def __init__(self,input_dim,out_dim):\n",
        "    super(MyDenseLayer,self).__init__()\n",
        "\n",
        "    self.w=self.add_weight([input_dim,out_dim])\n",
        "    self.b=self.add_weight([1,out_dim])\n",
        "\n",
        "  def call(self,inputs) :\n",
        "    z=tf.matmul(inputs,self.w)+self.b\n",
        "\n",
        "    output=tf.math.sigmoid(z)\n",
        "    return output"
      ]
    },
    {
      "cell_type": "code",
      "source": [],
      "metadata": {
        "id": "Io3R1kQzB4nw"
      },
      "execution_count": null,
      "outputs": []
    }
  ]
}